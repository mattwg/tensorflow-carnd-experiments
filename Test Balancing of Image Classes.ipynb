{
 "cells": [
  {
   "cell_type": "code",
   "execution_count": 1,
   "metadata": {
    "collapsed": false
   },
   "outputs": [],
   "source": [
    "import pickle\n",
    "import pandas as pd\n",
    "import math\n",
    "import os\n",
    "import numpy as np\n",
    "from itertools import product\n",
    "import cv2\n",
    "from sklearn.metrics import confusion_matrix\n",
    "from sklearn.model_selection import train_test_split\n",
    "from sklearn.preprocessing import LabelBinarizer\n",
    "import tensorflow as tf\n",
    "from tensorflow.python.ops.variables import Variable\n",
    "from tensorflow.contrib.layers import flatten\n",
    "\n",
    "import helpers as h\n",
    "\n",
    "#---------------------------------------------\n",
    "# Training parameters\n",
    "#---------------------------------------------\n",
    "training_file = 'data/train.p'\n",
    "testing_file = 'data/test.p'\n",
    "features_count = 32 * 32\n",
    "batch_size=100\n",
    "epochs = 2000\n",
    "learning_rate = 0.0001\n",
    "early_stopping_rounds = 10\n",
    "dropout_probability = 0.2\n",
    "TRAIN_DIR = 'logs/'\n",
    "\n",
    "#---------------------------------------------\n",
    "# Load data\n",
    "#---------------------------------------------\n",
    "with open(training_file, mode='rb') as f:\n",
    "    train = pickle.load(f)\n",
    "with open(testing_file, mode='rb') as f:\n",
    "    test = pickle.load(f)\n",
    "    \n",
    "X_train, y_train = train['features'], train['labels']\n",
    "X_test, y_test = test['features'], test['labels']\n",
    "\n",
    "n_train = len(X_train)\n",
    "n_test = len(X_test)\n",
    "image_shape = X_train.shape[1]\n",
    "n_classes = len(set(y_train))"
   ]
  },
  {
   "cell_type": "code",
   "execution_count": 2,
   "metadata": {
    "collapsed": false
   },
   "outputs": [
    {
     "data": {
      "text/plain": [
       "(39209, 32, 32, 3)"
      ]
     },
     "execution_count": 2,
     "metadata": {},
     "output_type": "execute_result"
    }
   ],
   "source": [
    "X_train.shape"
   ]
  },
  {
   "cell_type": "code",
   "execution_count": 3,
   "metadata": {
    "collapsed": false
   },
   "outputs": [
    {
     "data": {
      "text/plain": [
       "<module 'matplotlib.pyplot' from '/home/mattwg/anaconda3/lib/python3.5/site-packages/matplotlib/pyplot.py'>"
      ]
     },
     "execution_count": 3,
     "metadata": {},
     "output_type": "execute_result"
    },
    {
     "data": {
      "image/png": "[encoded data removed]",
      "text/plain": [
       "<matplotlib.figure.Figure at 0x7f4629bb6198>"
      ]
     },
     "metadata": {},
     "output_type": "display_data"
    }
   ],
   "source": [
    "#---------------------------------------------\n",
    "# Balance classes - 5000 of each image\n",
    "#---------------------------------------------\n",
    "%matplotlib inline\n",
    "img = X_train[1,:,:, :]\n",
    "\n",
    "h.plot_image(h.random_rotate(img), 1, 1)"
   ]
  },
  {
   "cell_type": "code",
   "execution_count": 12,
   "metadata": {
    "collapsed": false
   },
   "outputs": [
    {
     "name": "stdout",
     "output_type": "stream",
     "text": [
      "0 210 2290 0 210 2500\n",
      "1 2220 280 2500 4720 5000\n",
      "2 2250 250 5000 7250 7500\n",
      "3 1410 1090 7500 8910 10000\n",
      "4 1980 520 10000 11980 12500\n",
      "5 1860 640 12500 14360 15000\n",
      "6 420 2080 15000 15420 17500\n",
      "7 1440 1060 17500 18940 20000\n",
      "8 1410 1090 20000 21410 22500\n",
      "9 1470 1030 22500 23970 25000\n",
      "10 2010 490 25000 27010 27500\n",
      "11 1320 1180 27500 28820 30000\n",
      "12 2100 400 30000 32100 32500\n",
      "13 2160 340 32500 34660 35000\n",
      "14 780 1720 35000 35780 37500\n",
      "15 630 1870 37500 38130 40000\n",
      "16 420 2080 40000 40420 42500\n",
      "17 1110 1390 42500 43610 45000\n",
      "18 1200 1300 45000 46200 47500\n",
      "19 210 2290 47500 47710 50000\n",
      "20 360 2140 50000 50360 52500\n",
      "21 330 2170 52500 52830 55000\n",
      "22 390 2110 55000 55390 57500\n",
      "23 510 1990 57500 58010 60000\n",
      "24 270 2230 60000 60270 62500\n",
      "25 1500 1000 62500 64000 65000\n",
      "26 600 1900 65000 65600 67500\n",
      "27 240 2260 67500 67740 70000\n",
      "28 540 1960 70000 70540 72500\n",
      "29 270 2230 72500 72770 75000\n",
      "30 450 2050 75000 75450 77500\n",
      "31 780 1720 77500 78280 80000\n",
      "32 240 2260 80000 80240 82500\n",
      "33 689 1811 82500 83189 85000\n",
      "34 420 2080 85000 85420 87500\n",
      "35 1200 1300 87500 88700 90000\n",
      "36 390 2110 90000 90390 92500\n",
      "37 210 2290 92500 92710 95000\n",
      "38 2070 430 95000 97070 97500\n",
      "39 300 2200 97500 97800 100000\n",
      "40 360 2140 100000 100360 102500\n",
      "41 240 2260 102500 102740 105000\n",
      "42 240 2260 105000 105240 107500\n",
      "2500\n",
      "2500\n",
      "2500\n",
      "2500\n",
      "2500\n",
      "2500\n",
      "2500\n",
      "2500\n",
      "2500\n",
      "2500\n",
      "2500\n",
      "2500\n",
      "2500\n",
      "2500\n",
      "2500\n",
      "2500\n",
      "2500\n",
      "2500\n",
      "2500\n",
      "2500\n",
      "2500\n",
      "2500\n",
      "2500\n",
      "2500\n",
      "2500\n",
      "2500\n",
      "2500\n",
      "2500\n",
      "2500\n",
      "2500\n",
      "2500\n",
      "2500\n",
      "2500\n",
      "2500\n",
      "2500\n",
      "2500\n",
      "2500\n",
      "2500\n",
      "2500\n",
      "2500\n",
      "2500\n",
      "2500\n",
      "2500\n"
     ]
    }
   ],
   "source": [
    "## Generate 2500 of each class\n",
    "## for each class\n",
    "X_train_balanced = np.empty([2500*43, 32, 32, 3])\n",
    "y_train_balanced = np.empty([2500*43])\n",
    "indices = np.arange(0,len(X_train))\n",
    "start_idx = 0\n",
    "for c in range(0,n_classes):\n",
    "    bidx = (y_train == c)\n",
    "    class_indices = indices[bidx]\n",
    "    n_imgs = len(class_indices)\n",
    "    n_new_imgs = 2500 - n_imgs\n",
    "    end_idx = start_idx + n_imgs\n",
    "    print(c, n_imgs, n_new_imgs, start_idx, end_idx, end_idx + n_new_imgs)\n",
    "    # copy old images over\n",
    "    X_train_balanced[start_idx:end_idx,:,:,:] = X_train[class_indices,:,:,:]\n",
    "    y_train_balanced[start_idx:end_idx] = y_train[class_indices]\n",
    "    # sample remaining images\n",
    "    new_idx = np.random.choice(class_indices,n_new_imgs)\n",
    "    for i, j in enumerate(new_idx):\n",
    "        X_train_balanced[end_idx+i,:,:,:] = h.random_rotate(X_train[j,:,:,:])\n",
    "        y_train_balanced[end_idx+i] = y_train[j\n",
    "                                                   ]\n",
    "    start_idx = start_idx + 2500\n",
    "                                                                \n",
    "                                                                \n",
    "X_train_balanced.shape\n",
    "\n",
    "\n",
    "for c in range(0,n_classes):\n",
    "    print(len(y_train_balanced[(y_train_balanced == c)]))\n",
    "    "
   ]
  }
 ],
 "metadata": {
  "kernelspec": {
   "display_name": "Python [default]",
   "language": "python",
   "name": "python3"
  },
  "language_info": {
   "codemirror_mode": {
    "name": "ipython",
    "version": 3
   },
   "file_extension": ".py",
   "mimetype": "text/x-python",
   "name": "python",
   "nbconvert_exporter": "python",
   "pygments_lexer": "ipython3",
   "version": "3.5.2"
  }
 },
 "nbformat": 4,
 "nbformat_minor": 1
}
